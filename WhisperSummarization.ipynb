{
 "cells": [
  {
   "cell_type": "code",
   "execution_count": 1,
   "id": "5b90d371",
   "metadata": {},
   "outputs": [],
   "source": [
    "import os\n",
    "os.environ[\"OPENAI_API_TYPE\"] = \"azure\"\n",
    "os.environ[\"OPENAI_API_VERSION\"] = \"2023-07-01-preview\"\n",
    "os.environ[\"OPENAI_API_BASE\"] = \"\"\n",
    "os.environ[\"OPENAI_API_KEY\"] = \"\""
   ]
  },
  {
   "cell_type": "code",
   "execution_count": 2,
   "id": "566b041f",
   "metadata": {},
   "outputs": [],
   "source": [
    "from langchain.chains.llm import LLMChain\n",
    "from langchain.prompts import PromptTemplate\n",
    "from langchain.chains.combine_documents.stuff import StuffDocumentsChain\n",
    "from langchain.chat_models import AzureChatOpenAI\n",
    "from langchain.chains.mapreduce import MapReduceChain\n",
    "from langchain.text_splitter import CharacterTextSplitter\n",
    "from langchain.chains import ReduceDocumentsChain, MapReduceDocumentsChain\n",
    "from langchain.text_splitter import RecursiveCharacterTextSplitter"
   ]
  },
  {
   "cell_type": "code",
   "execution_count": 3,
   "id": "4030570e",
   "metadata": {},
   "outputs": [],
   "source": [
    "llm = AzureChatOpenAI(\n",
    "    deployment_name=\"gpt-4\"\n",
    "    #deployment_name=\"gpt-4-32k\"\n",
    ")"
   ]
  },
  {
   "cell_type": "code",
   "execution_count": 4,
   "id": "8d04da10",
   "metadata": {},
   "outputs": [
    {
     "name": "stdout",
     "output_type": "stream",
     "text": [
      "00:00.000 --> 00:13.000]  I can say we are at the moment in advance stage, I can say, because we've been adopting different automations.\n",
      "[00:13.000 --> 00:20.000]  I have a different view from the previous panelists when we discussed about the book.\n",
      "[00:20.000 --> 00:27.000]  I rememb\n"
     ]
    }
   ],
   "source": [
    "with open('conversation.txt', 'r') as file:\n",
    "    text = file.read()\n",
    "\n",
    "# Printing the first 285 characters as a preview\n",
    "print (text[:285])"
   ]
  },
  {
   "cell_type": "code",
   "execution_count": 5,
   "id": "1a882594",
   "metadata": {},
   "outputs": [
    {
     "name": "stdout",
     "output_type": "stream",
     "text": [
      "There are 16520 tokens in your file\n"
     ]
    }
   ],
   "source": [
    "num_tokens = llm.get_num_tokens(text)\n",
    "\n",
    "print (f\"There are {num_tokens} tokens in your file\")"
   ]
  },
  {
   "cell_type": "code",
   "execution_count": 6,
   "id": "734e9913",
   "metadata": {},
   "outputs": [
    {
     "name": "stdout",
     "output_type": "stream",
     "text": [
      "You now have 12 docs intead of 1 piece of text\n"
     ]
    }
   ],
   "source": [
    "text_splitter = RecursiveCharacterTextSplitter(separators=[\"\\n\\n\", \"\\n\"], chunk_size=5000, chunk_overlap=350)\n",
    "docs = text_splitter.create_documents([text])\n",
    "\n",
    "print (f\"You now have {len(docs)} docs intead of 1 piece of text\")"
   ]
  },
  {
   "cell_type": "code",
   "execution_count": 7,
   "id": "9f6e1d23",
   "metadata": {},
   "outputs": [],
   "source": [
    "# Reduce\n",
    "reduce_template = \"\"\"The following is the conversation in the panel discussion:\n",
    "{doc_summaries}\n",
    "\n",
    "Summarise the conversation in the 10 bullet points in details.\n",
    "\n",
    "Helpful Answer:\"\"\"\n",
    "reduce_prompt = PromptTemplate.from_template(reduce_template)\n",
    "map_chain = LLMChain(llm=llm, prompt=reduce_prompt)"
   ]
  },
  {
   "cell_type": "code",
   "execution_count": 8,
   "id": "c167dc15",
   "metadata": {},
   "outputs": [],
   "source": [
    "# Run chain\n",
    "reduce_chain = LLMChain(llm=llm, prompt=reduce_prompt)\n",
    "\n",
    "# Takes a list of documents, combines them into a single string, and passes this to an LLMChain\n",
    "combine_documents_chain = StuffDocumentsChain(\n",
    "    llm_chain=reduce_chain, document_variable_name=\"doc_summaries\"\n",
    ")\n",
    "\n",
    "# Combines and iteravely reduces the mapped documents\n",
    "reduce_documents_chain = ReduceDocumentsChain(\n",
    "    # This is final chain that is called.\n",
    "    combine_documents_chain=combine_documents_chain,\n",
    "    # If documents exceed context for `StuffDocumentsChain`\n",
    "    collapse_documents_chain=combine_documents_chain,\n",
    "    # The maximum number of tokens to group documents into.\n",
    "    token_max=4000,\n",
    ")"
   ]
  },
  {
   "cell_type": "code",
   "execution_count": 9,
   "id": "18d2be54",
   "metadata": {},
   "outputs": [],
   "source": [
    "# Combining documents by mapping a chain over them, then combining results\n",
    "map_reduce_chain = MapReduceDocumentsChain(\n",
    "    # Map chain\n",
    "    llm_chain=map_chain,\n",
    "    # Reduce chain\n",
    "    reduce_documents_chain=reduce_documents_chain,\n",
    "    # The variable name in the llm_chain to put the documents in\n",
    "    document_variable_name=\"doc_summaries\",\n",
    "    # Return the results of the map steps in the output\n",
    "    return_intermediate_steps=False,\n",
    ")\n",
    "\n",
    "text_splitter = CharacterTextSplitter.from_tiktoken_encoder(\n",
    "    chunk_size=1000, chunk_overlap=0\n",
    ")\n",
    "split_docs = text_splitter.split_documents(docs)"
   ]
  },
  {
   "cell_type": "code",
   "execution_count": 10,
   "id": "6881558e",
   "metadata": {},
   "outputs": [
    {
     "name": "stdout",
     "output_type": "stream",
     "text": [
      "1. The discussion began with panelists sharing their experiences of automation and integration in their businesses. They discussed the use of automated solutions in areas like procurement and the implementation of robotics in vendor management. They also expressed their future plans to incorporate AI in sourcing.\n",
      "\n",
      "2. Panelists then discussed the challenges of digital adoption faced by smaller companies with limited resources. They highlighted the need to integrate standalone solutions and shared examples from HR processes. They introduced the concept of \"dog fooding\", the practice of testing solutions internally before introducing them to customers.\n",
      "\n",
      "3. The role of CFOs in digital transformation was discussed next. Panelists emphasized the importance of CFOs championing change and fostering a strong partnership with CIOs. They also discussed potential technology disruptions, focusing on process mining, its role in identifying inefficiencies, and providing insights for potential automation and change.\n",
      "\n",
      "4. The automation of financial tasks was discussed, with panelists highlighting the role of Robotics Process Automation (RPA) and the combination of AI and RPA in finance. They also discussed the emergence of generative AI and the significance of low-code and no-code apps in finance due to digital skills challenges.\n",
      "\n",
      "5. Panelists shared their experiences and solutions to the challenge of various systems within large companies not effectively communicating with each other. They emphasized the importance of governance, policy, and procedure in system integrations.\n",
      "\n",
      "6. The role of technology in creating limitations and ensuring process efficiency was discussed. Panelists emphasized the value of automation in solving most of manual work, especially in rule-based processes. They acknowledged the need for human intervention and judgment in certain areas like spending and procurement.\n",
      "\n",
      "7. The panelists discussed the implementation of AI in procurement processes like sourcing and negotiation. They shared their plans to streamline these processes through AI and discussed the automation of Vendor Managed Inventory as a tool to manage working capital in inventory.\n",
      "\n",
      "8. The power of combining RPA and AI as a business tool was highlighted. This was followed by a discussion on the evolving role of financial leaders, shifting from a focus on finance to one on value creation and protection.\n",
      "\n",
      "9. The organizational benefits of automation, its impact on different stakeholders, and the role of finance at the heart of these operations were discussed. Panelists countered the fear of job loss due to automation, pointing out that as organizations grow, their workforce requirements grow too. They emphasized the importance of upskilling and workforce transformation.\n",
      "\n",
      "10. The shift from repetitive, transactional processes to automated ones was discussed. Panelists stressed the need for employees who can understand and analyze data. They also discussed the challenges faced by organizations wanting to automate but having a heavy reliance on Excel. They emphasized the importance of process owners understanding available solutions and how to implement them, not only for current needs but also future vision.\n"
     ]
    }
   ],
   "source": [
    "print(map_reduce_chain.run(split_docs))"
   ]
  },
  {
   "cell_type": "code",
   "execution_count": null,
   "id": "296e1a5a",
   "metadata": {},
   "outputs": [],
   "source": []
  }
 ],
 "metadata": {
  "kernelspec": {
   "display_name": "Python 3 (ipykernel)",
   "language": "python",
   "name": "python3"
  },
  "language_info": {
   "codemirror_mode": {
    "name": "ipython",
    "version": 3
   },
   "file_extension": ".py",
   "mimetype": "text/x-python",
   "name": "python",
   "nbconvert_exporter": "python",
   "pygments_lexer": "ipython3",
   "version": "3.11.4"
  }
 },
 "nbformat": 4,
 "nbformat_minor": 5
}
